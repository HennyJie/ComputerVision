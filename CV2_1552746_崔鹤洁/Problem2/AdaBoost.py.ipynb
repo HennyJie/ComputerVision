{
 "cells": [
  {
   "cell_type": "markdown",
   "metadata": {},
   "source": [
    "# CV Hw2 -- Problem2  AdaBoost"
   ]
  },
  {
   "cell_type": "markdown",
   "metadata": {},
   "source": [
    "The following program realizes a vivid example to demonstrate the basic idea of AdaBoost. Weak classifiers here are vertical or horizontal lines."
   ]
  },
  {
   "cell_type": "code",
   "execution_count": 16,
   "metadata": {
    "collapsed": true
   },
   "outputs": [],
   "source": [
    "import matplotlib.pyplot as plt\n",
    "import numpy as np\n",
    "import math\n",
    "import random \n",
    "random.seed(5)"
   ]
  },
  {
   "cell_type": "code",
   "execution_count": 17,
   "metadata": {
    "collapsed": true
   },
   "outputs": [],
   "source": [
    "# train weak classifiers\n",
    "def stumpClassifier(coor, label, D):\n",
    "#   try_times is the number of tried weak classifiers(for each experiment)\n",
    "    try_times = 100\n",
    "    best_error = 1\n",
    "\n",
    "    for i in range(try_times):\n",
    "#       randomly choose the x or y axis weak classifier\n",
    "        if random.random() >= 0.5:\n",
    "#           if dimension = 0, a x=c(c is a random const) line will be chosen as a weak classifier\n",
    "            dimension = 0\n",
    "        else:\n",
    "#           if dimension = 1, a y=c(c is a random const) line will be chosen as a weak classifier\n",
    "            dimension = 1\n",
    "\n",
    "#       randomly set a threshold(that is, the position of a weak classifier)\n",
    "        max_coor = coor[:, dimension].max()\n",
    "        min_coor = coor[:, dimension].min()\n",
    "        threshold = (max_coor - min_coor) * random.random() + min_coor\n",
    "        \n",
    "#       randomly choose which side represents +1\n",
    "        if random.random() >= 0.5:\n",
    "            positive_side = 1\n",
    "        else:\n",
    "            positive_side = -1\n",
    "            \n",
    "        temp = coor[:, dimension]\n",
    "        if positive_side == 1:\n",
    "#           if positive_side == 1, the points >= threshold is +\n",
    "            class_result = np.where(temp >= threshold, 1, -1)\n",
    "        else:\n",
    "#           if positive_side == -1, the points <= threshold is +\n",
    "            class_result = np.where(temp <= threshold, 1, -1)\n",
    "    \n",
    "#       calculate the error\n",
    "        compare = class_result == label\n",
    "        compare = np.where(compare==False, 1, 0)\n",
    "        error = np.sum((compare * D))\n",
    "        \n",
    "#       find the best weak classifier\n",
    "        if error < best_error:\n",
    "            best_error = error\n",
    "            best_dimension = dimension\n",
    "            best_positive_side = positive_side\n",
    "            best_threshold = threshold\n",
    "            best_class_result = class_result\n",
    "\n",
    "    return best_error, best_dimension, best_positive_side, best_threshold, best_class_result"
   ]
  },
  {
   "cell_type": "code",
   "execution_count": 18,
   "metadata": {
    "collapsed": true
   },
   "outputs": [],
   "source": [
    "# Adaboost training framework\n",
    "def adaboostTrain(X, y, iter):\n",
    "#   initialize weights for samples\n",
    "    weak_classifiers = []\n",
    "    n = X.shape[0]\n",
    "    D = np.ones((1, n)).astype(np.float64)\n",
    "    D = D / n\n",
    "\n",
    "    for i in range(iter):\n",
    "#       train and find the best weak classifier\n",
    "        best_error, best_dimension, best_positive_side, best_threshold, best_class_result = stumpClassifier(X, y, D)\n",
    "#       calculate weights for weak classifiers\n",
    "        alpha = 0.5 * math.log((1 - best_error) / best_error)\n",
    "#       update weights for samples\n",
    "        D = D * np.exp(-alpha * (y * best_class_result)) \n",
    "    \n",
    "#       alpha refers the weight of each weak classifier; \n",
    "#       dimension refers the weak classifier is vertical or level;\n",
    "#       threshold refers the position value of this weak classifier; \n",
    "#       positive_side refers which side of this weak classifier is +1;\n",
    "        weak_classifiers += [[alpha, best_dimension, best_threshold, best_positive_side]]\n",
    "        \n",
    "    return weak_classifiers"
   ]
  },
  {
   "cell_type": "code",
   "execution_count": 19,
   "metadata": {
    "collapsed": true
   },
   "outputs": [],
   "source": [
    "# result of strong classifiers composed by weak classifiers\n",
    "def adaClassifier(coordinates, weak_classifiers, T):\n",
    "#   hypothesis is used to store the -1/1 classification of each points under three weak classifiers.\n",
    "    hypothesis = []\n",
    "    \n",
    "    for i in range(T):\n",
    "        dimension = weak_classifiers[i][1]\n",
    "        threshold = weak_classifiers[i][2]\n",
    "        positive_side = weak_classifiers[i][3]\n",
    "#       \"np.sign(coordinates[:, dimension] - threshold)\" determines whether  \n",
    "#       x/y coordinates is bigger than the weak classifier line.\n",
    "#       \"positive_side\" determines which side is +1\n",
    "        temp = positive_side * np.sign(coordinates[:, dimension] - threshold)\n",
    "        hypothesis += [temp]\n",
    "    \n",
    "    hypothesis = np.array(hypothesis)\n",
    "    \n",
    "#   The weighted(each weak classifier's weight) average of weak classifiers\n",
    "    alpha = [s[0] for s in weak_classifiers]\n",
    "    alpha = np.array([alpha])\n",
    "    \n",
    "#   ada_class_result is a 10*1 matrixs, storing +1 or -1 label for each points\n",
    "    ada_class_result = np.sign(np.dot(hypothesis.T, alpha.T))\n",
    "    \n",
    "    return ada_class_result"
   ]
  },
  {
   "cell_type": "code",
   "execution_count": 20,
   "metadata": {},
   "outputs": [
    {
     "data": {
      "text/plain": [
       "<matplotlib.figure.Figure at 0x111e0ec18>"
      ]
     },
     "metadata": {},
     "output_type": "display_data"
    },
    {
     "data": {
      "image/png": "[encoded data removed]",
      "text/plain": [
       "<matplotlib.figure.Figure at 0x11189d2e8>"
      ]
     },
     "metadata": {},
     "output_type": "display_data"
    },
    {
     "name": "stdout",
     "output_type": "stream",
     "text": [
      "Comparision between labels and classify results by adaClassifier:\n",
      "[[  80.  144.    1.    1.]\n",
      " [  93.  232.    1.    1.]\n",
      " [ 136.  275.   -1.   -1.]\n",
      " [ 147.  131.   -1.   -1.]\n",
      " [ 159.   69.    1.    1.]\n",
      " [ 214.   31.    1.    1.]\n",
      " [ 214.  152.   -1.   -1.]\n",
      " [ 257.   83.    1.    1.]\n",
      " [ 307.   62.   -1.   -1.]\n",
      " [ 307.  231.   -1.   -1.]]\n",
      "Accuracy:\n",
      "1.0\n"
     ]
    }
   ],
   "source": [
    "# iterations\n",
    "T = 3\n",
    "\n",
    "# 10 samples\n",
    "samples = [[80,144,1],[93,232,1],[136,275,-1],[147,131,-1],[159,69,1],[214,31,1],[214,152,-1],[257,83,1],[307,62,-1],[307,231,-1]]\n",
    "samples = np.array(samples)\n",
    "coordinates = samples[:, 0:2]\n",
    "labels = samples[:, 2]\n",
    "positive_points = np.array([s for s,l in zip(coordinates,labels) if l == 1])\n",
    "negative_points = np.array([s for s,l in zip(coordinates,labels) if l == -1])\n",
    "\n",
    "# visualize sample points \n",
    "plt.figure()\n",
    "plt.plot(positive_points[:,0], positive_points[:,1], 'r+', label='positive samples')\n",
    "plt.plot(negative_points[:,0], negative_points[:,1], 'g^', label='negative samples')\n",
    "\n",
    "# the information for each echos's best weak classifiers\n",
    "weak_classifiers = adaboostTrain(coordinates, labels, T)\n",
    "\n",
    "# visualize weak classifiers\n",
    "for i in range(T-1):\n",
    "    threshold = weak_classifiers[i][2]\n",
    "    dimension = weak_classifiers[i][1]\n",
    "\n",
    "    if dimension == 0:\n",
    "        plt.plot([threshold, threshold], [0, 400], 'c') \n",
    "    else: \n",
    "        plt.plot([0, 400], [threshold, threshold], 'c')\n",
    "\n",
    "threshold = weak_classifiers[i+1][2]\n",
    "dimension = weak_classifiers[i+1][1]\n",
    "if dimension == 0:\n",
    "    plt.plot([threshold, threshold], [0, 400], 'c', label='weak classifier') \n",
    "else: \n",
    "    plt.plot([0, 400], [threshold, threshold], 'c', label='weak classifier')\n",
    "        \n",
    "plt.legend(loc='upper right')\n",
    "plt.savefig('AdaboostDemo.png')\n",
    "plt.show()\n",
    "\n",
    "\n",
    "# show the results of classification and accuracy\n",
    "ada_class_result = adaClassifier(coordinates, weak_classifiers, T)\n",
    "ada_class_result = np.array(ada_class_result)\n",
    "\n",
    "print('Comparision between labels and classify results by adaClassifier:')\n",
    "print(np.hstack((samples, ada_class_result)))\n",
    "# statistic the right classified number\n",
    "compare = samples[:, 2] == labels\n",
    "compare = np.where(compare==True, 1, 0)\n",
    "right_num = np.sum((compare))\n",
    "print('Accuracy:')\n",
    "print(right_num / samples.shape[0])"
   ]
  }
 ],
 "metadata": {
  "kernelspec": {
   "display_name": "Python 3",
   "language": "python",
   "name": "python3"
  },
  "language_info": {
   "codemirror_mode": {
    "name": "ipython",
    "version": 3.0
   },
   "file_extension": ".py",
   "mimetype": "text/x-python",
   "name": "python",
   "nbconvert_exporter": "python",
   "pygments_lexer": "ipython3",
   "version": "3.6.3"
  }
 },
 "nbformat": 4,
 "nbformat_minor": 0
}