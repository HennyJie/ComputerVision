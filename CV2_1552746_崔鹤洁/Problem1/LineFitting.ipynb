{
 "cells": [
  {
   "cell_type": "markdown",
   "metadata": {},
   "source": [
    "# CV Hw2 -- Problem1 RANSAC"
   ]
  },
  {
   "cell_type": "markdown",
   "metadata": {},
   "source": [
    "The following program is to fit a straight 2D line using RANSAC from given sample points."
   ]
  },
  {
   "cell_type": "code",
   "execution_count": 73,
   "metadata": {
    "collapsed": true
   },
   "outputs": [],
   "source": [
    "import matplotlib.pyplot as plt\n",
    "import numpy as np\n",
    "import math\n",
    "import random\n",
    "random.seed(10)"
   ]
  },
  {
   "cell_type": "code",
   "execution_count": 74,
   "metadata": {
    "collapsed": true
   },
   "outputs": [],
   "source": [
    "# this function is to realize the RANSAC models\n",
    "def ransac(max_iterations, point_set):\n",
    "#   initial the parameters of the best fitting line\n",
    "    best_k = 0\n",
    "    best_b = 0\n",
    "    best_inliers_number = 0\n",
    "#   set the threshold for inliers\n",
    "    inlier_threshold = 1\n",
    "#   the total number of points\n",
    "    point_set.shape[1]\n",
    "    \n",
    "    for i in range(max_iterations):\n",
    "#       randomly select two points as a sample\n",
    "        sample_index = random.sample(range(0, 14), 2)\n",
    "        sample_point = point_set[:, sample_index]\n",
    "#       x, y coordinates of the sample points\n",
    "        x = sample_point[0, :]\n",
    "        y = sample_point[1, :]\n",
    "        \n",
    "#       line slope \n",
    "        k = (y[1] - y[0]) / (x[1] - x[0])\n",
    "#       y axis intercept\n",
    "        b = y[0] - k * x[0]\n",
    "    \n",
    "#       this is used for calculate the distance from each point to the fitting line\n",
    "        dist_parameters = [k, -1, b]\n",
    "        \n",
    "        one = np.ones((1, 14)).astype(np.float64)\n",
    "#       calculate the distance from each point to the fitting line\n",
    "        dist = abs(np.dot(dist_parameters, np.vstack([point_set, one])))\n",
    "        \n",
    "#       calculate the number of inliers\n",
    "        compare = dist < inlier_threshold \n",
    "        compare = np.where(compare==True, 1, 0)\n",
    "        inliers_number = np.sum((compare))\n",
    "        \n",
    "#       find the fitting line with the most inliers\n",
    "        if inliers_number > best_inliers_number:\n",
    "            best_inliers_number = inliers_number\n",
    "            best_parameters = dist_parameters\n",
    "    \n",
    "#   statistic the positions of inlier points\n",
    "    inliers = np.zeros( (1,14) )\n",
    "    inliers = np.array(inliers)\n",
    "    compare = abs(np.dot(best_parameters, np.vstack([point_set, one]))) < inlier_threshold \n",
    "    is_inlier = np.where(compare==True, 1, 0)\n",
    "      \n",
    "#   show the inliers points with *\n",
    "    count = 0\n",
    "    for i in range(0, 14):\n",
    "        if is_inlier[i] == 1:\n",
    "            inliers[0, count] = point_set[0, i]\n",
    "            plt.plot(point_set[0, i], point_set[1, i], 'r*')\n",
    "            count = count + 1\n",
    "            \n",
    "#   return the besk parameters and X, Y coordinates\n",
    "    best_k = best_parameters[0]\n",
    "    best_b = best_parameters[2]\n",
    "    \n",
    "    X = range(int(min(inliers[0, :])), int(max(inliers[0, :]))+1)\n",
    "    Y = best_k * X + best_b\n",
    "    \n",
    "    return X, Y, best_k, best_b"
   ]
  },
  {
   "cell_type": "code",
   "execution_count": 75,
   "metadata": {},
   "outputs": [
    {
     "data": {
      "image/png": "[encoded data removed]",
      "text/plain": [
       "<matplotlib.figure.Figure at 0x11d20f080>"
      ]
     },
     "metadata": {},
     "output_type": "display_data"
    }
   ],
   "source": [
    "# set the maximum interation times\n",
    "max_iterations = 1000\n",
    "\n",
    "# set the data points\n",
    "point_set = [[-2, 0, 2, 3, 4, 5, 6, 8, 10, 12, 13, 14, 16, 18], \n",
    "             [0, 0.9, 2.0, 6.5, 2.9, 8.8, 3.95, 5.03, 5.97, 7.1, 1.2, 8.2, 8.5, 10.1]]\n",
    "\n",
    "# plot the points sets\n",
    "point_set = np.array(point_set)\n",
    "plt.figure()\n",
    "plt.plot(point_set[0,:], point_set[1,:], 'o', label = 'sample points')\n",
    "\n",
    "# call ransac to find the best fitting line\n",
    "X, Y, best_k, best_b = ransac(max_iterations, point_set)\n",
    "\n",
    "# plot the best fitting line\n",
    "plt.plot(X, Y, 'r', label = 'fitting line')\n",
    "title = 'fittingLine: y = %1.3f*x + %1.3f'%(best_k, best_b)\n",
    "plt.title(title)\n",
    "plt.legend(loc='upper right')\n",
    "my_x_ticks = np.arange(-2, 20, 2)  \n",
    "my_y_ticks = np.arange(0, 14, 2)  \n",
    "plt.xticks(my_x_ticks)  \n",
    "plt.yticks(my_y_ticks)\n",
    "plt.xlim((-2, 18))\n",
    "plt.ylim((0, 12))\n",
    "plt.savefig('LineFitting.png')\n",
    "plt.show()"
   ]
  }
 ],
 "metadata": {
  "kernelspec": {
   "display_name": "Python 3",
   "language": "python",
   "name": "python3"
  },
  "language_info": {
   "codemirror_mode": {
    "name": "ipython",
    "version": 3.0
   },
   "file_extension": ".py",
   "mimetype": "text/x-python",
   "name": "python",
   "nbconvert_exporter": "python",
   "pygments_lexer": "ipython3",
   "version": "3.6.3"
  }
 },
 "nbformat": 4,
 "nbformat_minor": 0
}